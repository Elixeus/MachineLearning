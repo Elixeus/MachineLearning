{
 "cells": [
  {
   "cell_type": "code",
   "execution_count": 1,
   "metadata": {
    "collapsed": false
   },
   "outputs": [
    {
     "name": "stderr",
     "output_type": "stream",
     "text": [
      "/Users/eliseowang/anaconda/lib/python2.7/site-packages/matplotlib/__init__.py:872: UserWarning: axes.color_cycle is deprecated and replaced with axes.prop_cycle; please use the latter.\n",
      "  warnings.warn(self.msg_depr % (key, alt_key))\n"
     ]
    }
   ],
   "source": [
    "import numpy as np\n",
    "import pandas as pd\n",
    "import matplotlib\n",
    "matplotlib.use('SVG')\n",
    "import matplotlib.pyplot as plt\n",
    "import seaborn as sns\n",
    "import json\n",
    "import os\n",
    "import urllib\n",
    "import geopy\n",
    "import re\n",
    "from IPython.display import display\n",
    "'''\n",
    "import all the geocoders you like.\n",
    "Use dir(geopy.geocoders) to see all the options.\n",
    "'''\n",
    "from geopy.geocoders import Nominatim, ArcGIS, GoogleV3, GeoNames\n",
    "%matplotlib inline\n",
    "\n",
    "\n",
    "# url = \"https://raw.githubusercontent.com/Elixeus/PUI2015_xwang/master/plotstyle.json\"\n",
    "# response = urllib.urlopen(url)\n",
    "# s = json.loads(response.read())\n",
    "# plt.rcParams.update(s)"
   ]
  },
  {
   "cell_type": "code",
   "execution_count": 4,
   "metadata": {
    "collapsed": false
   },
   "outputs": [],
   "source": [
    "# food.rating.plot(kind='box')"
   ]
  },
  {
   "cell_type": "code",
   "execution_count": 5,
   "metadata": {
    "collapsed": false
   },
   "outputs": [],
   "source": [
    "# # show all the columns (import the module: IPython.display)\n",
    "# with pd.option_context('display.max_columns', None):\n",
    "#     display(food.head())"
   ]
  },
  {
   "cell_type": "code",
   "execution_count": 8,
   "metadata": {
    "collapsed": true
   },
   "outputs": [],
   "source": [
    "two = pd.read_csv('InspectionGeoYelp.csv')"
   ]
  },
  {
   "cell_type": "code",
   "execution_count": 9,
   "metadata": {
    "collapsed": false
   },
   "outputs": [
    {
     "data": {
      "text/plain": [
       "<matplotlib.axes._subplots.AxesSubplot at 0x113de98d0>"
      ]
     },
     "execution_count": 9,
     "metadata": {},
     "output_type": "execute_result"
    },
    {
     "data": {
      "image/png": "[encoded data removed]",
      "text/plain": [
       "<matplotlib.figure.Figure at 0x113de9890>"
      ]
     },
     "metadata": {},
     "output_type": "display_data"
    }
   ],
   "source": [
    "fig, ax = plt.subplots(figsize=(10,8))\n",
    "two.SCORE.plot(kind='box', ax=ax)"
   ]
  },
  {
   "cell_type": "code",
   "execution_count": 10,
   "metadata": {
    "collapsed": false
   },
   "outputs": [],
   "source": [
    "# food['latlon'] = zip(food['lat'].round(5), food['lon'].round(5))\n",
    "# food['latlon']"
   ]
  },
  {
   "cell_type": "code",
   "execution_count": 11,
   "metadata": {
    "collapsed": false
   },
   "outputs": [],
   "source": [
    "two.ix[two[two.lat == 'Error'].index, 'lat'] = None\n",
    "two.ix[two[two.lon == 'Error'].index, 'lon'] = None\n",
    "two.dropna(inplace=True)\n",
    "two['lat_short'] = 0\n",
    "two['lon_short'] = 0"
   ]
  },
  {
   "cell_type": "code",
   "execution_count": 12,
   "metadata": {
    "collapsed": false
   },
   "outputs": [],
   "source": [
    "two['lat_short'] = two.lat.map(lambda x: x[:8])\n",
    "two['lon_short'] = two.lon.map(lambda x: x[:9])"
   ]
  },
  {
   "cell_type": "code",
   "execution_count": 14,
   "metadata": {
    "collapsed": false
   },
   "outputs": [
    {
     "data": {
      "text/plain": [
       "0    (40.84826, -73.85595)\n",
       "1    (40.66287, -73.96218)\n",
       "2    (40.66287, -73.96218)\n",
       "3    (40.76761, -73.98492)\n",
       "4    (40.57955, -73.98205)\n",
       "Name: latlon, dtype: object"
      ]
     },
     "execution_count": 14,
     "metadata": {},
     "output_type": "execute_result"
    }
   ],
   "source": [
    "two['latlon'] = zip(two.lat_short, two.lon_short)\n",
    "two['latlon'].head()"
   ]
  },
  {
   "cell_type": "code",
   "execution_count": 16,
   "metadata": {
    "collapsed": false
   },
   "outputs": [],
   "source": [
    "# combine = pd.merge(food, two, on='latlon')"
   ]
  },
  {
   "cell_type": "code",
   "execution_count": 17,
   "metadata": {
    "collapsed": false
   },
   "outputs": [],
   "source": [
    "# combine"
   ]
  },
  {
   "cell_type": "code",
   "execution_count": 18,
   "metadata": {
    "collapsed": false
   },
   "outputs": [],
   "source": [
    "# food.plot(kind='scatter', x='lon', y='lat')"
   ]
  },
  {
   "cell_type": "code",
   "execution_count": 19,
   "metadata": {
    "collapsed": true
   },
   "outputs": [],
   "source": [
    "two['lat_num'] = two['lat'].astype(float)\n",
    "two['lon_num'] = two['lon'].astype(float)"
   ]
  },
  {
   "cell_type": "code",
   "execution_count": 20,
   "metadata": {
    "collapsed": false
   },
   "outputs": [
    {
     "data": {
      "text/plain": [
       "<matplotlib.axes._subplots.AxesSubplot at 0x113de9cd0>"
      ]
     },
     "execution_count": 20,
     "metadata": {},
     "output_type": "execute_result"
    },
    {
     "data": {
      "image/png": "[encoded data removed]",
      "text/plain": [
       "<matplotlib.figure.Figure at 0x115c0abd0>"
      ]
     },
     "metadata": {},
     "output_type": "display_data"
    }
   ],
   "source": [
    "two[(two['lat_num']>= 40) & (two['lon_num']<=-73.5)].plot(kind='scatter', x='lon_num', y='lat_num')"
   ]
  },
  {
   "cell_type": "code",
   "execution_count": 21,
   "metadata": {
    "collapsed": false
   },
   "outputs": [],
   "source": [
    "# with pd.option_context('display.max_columns', None):\n",
    "#     display(food.head())"
   ]
  },
  {
   "cell_type": "code",
   "execution_count": 22,
   "metadata": {
    "collapsed": false
   },
   "outputs": [
    {
     "data": {
      "text/html": [
       "<div>\n",
       "<table border=\"1\" class=\"dataframe\">\n",
       "  <thead>\n",
       "    <tr style=\"text-align: right;\">\n",
       "      <th></th>\n",
       "      <th>Unnamed: 0</th>\n",
       "      <th>Unnamed: 0.1</th>\n",
       "      <th>Unnamed: 0.1</th>\n",
       "      <th>CAMIS</th>\n",
       "      <th>DBA</th>\n",
       "      <th>BORO</th>\n",
       "      <th>ZIPCODE</th>\n",
       "      <th>CUISINE DESCRIPTION</th>\n",
       "      <th>GRADE</th>\n",
       "      <th>SCORE</th>\n",
       "      <th>MONTH</th>\n",
       "      <th>ADDRESS</th>\n",
       "      <th>lat</th>\n",
       "      <th>lon</th>\n",
       "      <th>STREET_ADDRESS</th>\n",
       "      <th>YelpRating</th>\n",
       "      <th>lat_short</th>\n",
       "      <th>lon_short</th>\n",
       "      <th>latlon</th>\n",
       "      <th>lat_num</th>\n",
       "      <th>lon_num</th>\n",
       "    </tr>\n",
       "  </thead>\n",
       "  <tbody>\n",
       "    <tr>\n",
       "      <th>0</th>\n",
       "      <td>0</td>\n",
       "      <td>0</td>\n",
       "      <td>0</td>\n",
       "      <td>30075445</td>\n",
       "      <td>MORRIS PARK BAKE SHOP</td>\n",
       "      <td>BRONX</td>\n",
       "      <td>10462</td>\n",
       "      <td>Bakery</td>\n",
       "      <td>A</td>\n",
       "      <td>2.0</td>\n",
       "      <td>3</td>\n",
       "      <td>1007 MORRIS PARK AVE, BRONX, New York 10462</td>\n",
       "      <td>40.848266969845895</td>\n",
       "      <td>-73.85595253867791</td>\n",
       "      <td>1007 MORRIS PARK AVE, BRONX, New York,NY</td>\n",
       "      <td>4.5</td>\n",
       "      <td>40.84826</td>\n",
       "      <td>-73.85595</td>\n",
       "      <td>(40.84826, -73.85595)</td>\n",
       "      <td>40.848267</td>\n",
       "      <td>-73.855953</td>\n",
       "    </tr>\n",
       "    <tr>\n",
       "      <th>1</th>\n",
       "      <td>1</td>\n",
       "      <td>1</td>\n",
       "      <td>1</td>\n",
       "      <td>30112340</td>\n",
       "      <td>WENDY'S</td>\n",
       "      <td>BROOKLYN</td>\n",
       "      <td>11225</td>\n",
       "      <td>Hamburgers</td>\n",
       "      <td>A</td>\n",
       "      <td>8.0</td>\n",
       "      <td>12</td>\n",
       "      <td>469 FLATBUSH AVENUE, BROOKLYN, New York 11225</td>\n",
       "      <td>40.66287297291046</td>\n",
       "      <td>-73.96218122858005</td>\n",
       "      <td>469 FLATBUSH AVENUE, BROOKLYN, New York,NY</td>\n",
       "      <td>4.5</td>\n",
       "      <td>40.66287</td>\n",
       "      <td>-73.96218</td>\n",
       "      <td>(40.66287, -73.96218)</td>\n",
       "      <td>40.662873</td>\n",
       "      <td>-73.962181</td>\n",
       "    </tr>\n",
       "    <tr>\n",
       "      <th>2</th>\n",
       "      <td>2</td>\n",
       "      <td>2</td>\n",
       "      <td>2</td>\n",
       "      <td>30112340</td>\n",
       "      <td>WENDY'S</td>\n",
       "      <td>BROOKLYN</td>\n",
       "      <td>11225</td>\n",
       "      <td>Hamburgers</td>\n",
       "      <td>B</td>\n",
       "      <td>23.0</td>\n",
       "      <td>7</td>\n",
       "      <td>469 FLATBUSH AVENUE, BROOKLYN, New York 11225</td>\n",
       "      <td>40.66287297291046</td>\n",
       "      <td>-73.96218122858005</td>\n",
       "      <td>469 FLATBUSH AVENUE, BROOKLYN, New York,NY</td>\n",
       "      <td>2.0</td>\n",
       "      <td>40.66287</td>\n",
       "      <td>-73.96218</td>\n",
       "      <td>(40.66287, -73.96218)</td>\n",
       "      <td>40.662873</td>\n",
       "      <td>-73.962181</td>\n",
       "    </tr>\n",
       "    <tr>\n",
       "      <th>3</th>\n",
       "      <td>3</td>\n",
       "      <td>3</td>\n",
       "      <td>3</td>\n",
       "      <td>30191841</td>\n",
       "      <td>DJ REYNOLDS PUB AND RESTAURANT</td>\n",
       "      <td>MANHATTAN</td>\n",
       "      <td>10019</td>\n",
       "      <td>Irish</td>\n",
       "      <td>A</td>\n",
       "      <td>2.0</td>\n",
       "      <td>9</td>\n",
       "      <td>351 WEST   57TH STREET, MANHATTAN, New York 10019</td>\n",
       "      <td>40.7676164567352</td>\n",
       "      <td>-73.98492902395446</td>\n",
       "      <td>351 WEST   57TH STREET, MANHATTAN, New York,NY</td>\n",
       "      <td>2.0</td>\n",
       "      <td>40.76761</td>\n",
       "      <td>-73.98492</td>\n",
       "      <td>(40.76761, -73.98492)</td>\n",
       "      <td>40.767616</td>\n",
       "      <td>-73.984929</td>\n",
       "    </tr>\n",
       "    <tr>\n",
       "      <th>4</th>\n",
       "      <td>4</td>\n",
       "      <td>4</td>\n",
       "      <td>4</td>\n",
       "      <td>40356018</td>\n",
       "      <td>RIVIERA CATERER</td>\n",
       "      <td>BROOKLYN</td>\n",
       "      <td>11224</td>\n",
       "      <td>American</td>\n",
       "      <td>A</td>\n",
       "      <td>5.0</td>\n",
       "      <td>6</td>\n",
       "      <td>2780 STILLWELL AVENUE, BROOKLYN, New York 11224</td>\n",
       "      <td>40.579553915881604</td>\n",
       "      <td>-73.98205601647118</td>\n",
       "      <td>2780 STILLWELL AVENUE, BROOKLYN, New York,NY</td>\n",
       "      <td>3.5</td>\n",
       "      <td>40.57955</td>\n",
       "      <td>-73.98205</td>\n",
       "      <td>(40.57955, -73.98205)</td>\n",
       "      <td>40.579554</td>\n",
       "      <td>-73.982056</td>\n",
       "    </tr>\n",
       "  </tbody>\n",
       "</table>\n",
       "</div>"
      ],
      "text/plain": [
       "   Unnamed: 0  Unnamed: 0.1  Unnamed: 0.1     CAMIS  \\\n",
       "0           0             0             0  30075445   \n",
       "1           1             1             1  30112340   \n",
       "2           2             2             2  30112340   \n",
       "3           3             3             3  30191841   \n",
       "4           4             4             4  40356018   \n",
       "\n",
       "                              DBA       BORO  ZIPCODE CUISINE DESCRIPTION  \\\n",
       "0           MORRIS PARK BAKE SHOP      BRONX    10462              Bakery   \n",
       "1                         WENDY'S   BROOKLYN    11225          Hamburgers   \n",
       "2                         WENDY'S   BROOKLYN    11225          Hamburgers   \n",
       "3  DJ REYNOLDS PUB AND RESTAURANT  MANHATTAN    10019               Irish   \n",
       "4                 RIVIERA CATERER   BROOKLYN    11224           American    \n",
       "\n",
       "  GRADE  SCORE  MONTH                                            ADDRESS  \\\n",
       "0     A    2.0      3        1007 MORRIS PARK AVE, BRONX, New York 10462   \n",
       "1     A    8.0     12      469 FLATBUSH AVENUE, BROOKLYN, New York 11225   \n",
       "2     B   23.0      7      469 FLATBUSH AVENUE, BROOKLYN, New York 11225   \n",
       "3     A    2.0      9  351 WEST   57TH STREET, MANHATTAN, New York 10019   \n",
       "4     A    5.0      6    2780 STILLWELL AVENUE, BROOKLYN, New York 11224   \n",
       "\n",
       "                  lat                 lon  \\\n",
       "0  40.848266969845895  -73.85595253867791   \n",
       "1   40.66287297291046  -73.96218122858005   \n",
       "2   40.66287297291046  -73.96218122858005   \n",
       "3    40.7676164567352  -73.98492902395446   \n",
       "4  40.579553915881604  -73.98205601647118   \n",
       "\n",
       "                                   STREET_ADDRESS  YelpRating lat_short  \\\n",
       "0        1007 MORRIS PARK AVE, BRONX, New York,NY         4.5  40.84826   \n",
       "1      469 FLATBUSH AVENUE, BROOKLYN, New York,NY         4.5  40.66287   \n",
       "2      469 FLATBUSH AVENUE, BROOKLYN, New York,NY         2.0  40.66287   \n",
       "3  351 WEST   57TH STREET, MANHATTAN, New York,NY         2.0  40.76761   \n",
       "4    2780 STILLWELL AVENUE, BROOKLYN, New York,NY         3.5  40.57955   \n",
       "\n",
       "   lon_short                 latlon    lat_num    lon_num  \n",
       "0  -73.85595  (40.84826, -73.85595)  40.848267 -73.855953  \n",
       "1  -73.96218  (40.66287, -73.96218)  40.662873 -73.962181  \n",
       "2  -73.96218  (40.66287, -73.96218)  40.662873 -73.962181  \n",
       "3  -73.98492  (40.76761, -73.98492)  40.767616 -73.984929  \n",
       "4  -73.98205  (40.57955, -73.98205)  40.579554 -73.982056  "
      ]
     },
     "metadata": {},
     "output_type": "display_data"
    }
   ],
   "source": [
    "with pd.option_context('display.max_columns', None):\n",
    "    display(two.head())"
   ]
  },
  {
   "cell_type": "code",
   "execution_count": 23,
   "metadata": {
    "collapsed": false
   },
   "outputs": [
    {
     "name": "stderr",
     "output_type": "stream",
     "text": [
      "/Users/eliseowang/anaconda/lib/python2.7/site-packages/IPython/core/interactiveshell.py:2902: DtypeWarning: Columns (6) have mixed types. Specify dtype option on import or set low_memory=False.\n",
      "  interactivity=interactivity, compiler=compiler, result=result)\n"
     ]
    }
   ],
   "source": [
    "inspec = pd.read_csv('DOHMH_New_York_City_Restaurant_Inspection_Results.csv')"
   ]
  },
  {
   "cell_type": "code",
   "execution_count": 24,
   "metadata": {
    "collapsed": false
   },
   "outputs": [
    {
     "data": {
      "text/html": [
       "<div>\n",
       "<table border=\"1\" class=\"dataframe\">\n",
       "  <thead>\n",
       "    <tr style=\"text-align: right;\">\n",
       "      <th></th>\n",
       "      <th>CAMIS</th>\n",
       "      <th>DBA</th>\n",
       "      <th>BORO</th>\n",
       "      <th>BUILDING</th>\n",
       "      <th>STREET</th>\n",
       "      <th>ZIPCODE</th>\n",
       "      <th>PHONE</th>\n",
       "      <th>CUISINE DESCRIPTION</th>\n",
       "      <th>INSPECTION DATE</th>\n",
       "      <th>ACTION</th>\n",
       "      <th>VIOLATION CODE</th>\n",
       "      <th>VIOLATION DESCRIPTION</th>\n",
       "      <th>CRITICAL FLAG</th>\n",
       "      <th>SCORE</th>\n",
       "      <th>GRADE</th>\n",
       "      <th>GRADE DATE</th>\n",
       "      <th>RECORD DATE</th>\n",
       "      <th>INSPECTION TYPE</th>\n",
       "    </tr>\n",
       "  </thead>\n",
       "  <tbody>\n",
       "    <tr>\n",
       "      <th>0</th>\n",
       "      <td>30075445</td>\n",
       "      <td>MORRIS PARK BAKE SHOP</td>\n",
       "      <td>BRONX</td>\n",
       "      <td>1007</td>\n",
       "      <td>MORRIS PARK AVE</td>\n",
       "      <td>10462</td>\n",
       "      <td>7188924968</td>\n",
       "      <td>Bakery</td>\n",
       "      <td>02/18/2016</td>\n",
       "      <td>Violations were cited in the following area(s).</td>\n",
       "      <td>04L</td>\n",
       "      <td>Evidence of mice or live mice present in facil...</td>\n",
       "      <td>Critical</td>\n",
       "      <td>10.0</td>\n",
       "      <td>A</td>\n",
       "      <td>02/18/2016</td>\n",
       "      <td>04/05/2016</td>\n",
       "      <td>Cycle Inspection / Initial Inspection</td>\n",
       "    </tr>\n",
       "    <tr>\n",
       "      <th>1</th>\n",
       "      <td>30075445</td>\n",
       "      <td>MORRIS PARK BAKE SHOP</td>\n",
       "      <td>BRONX</td>\n",
       "      <td>1007</td>\n",
       "      <td>MORRIS PARK AVE</td>\n",
       "      <td>10462</td>\n",
       "      <td>7188924968</td>\n",
       "      <td>Bakery</td>\n",
       "      <td>02/18/2016</td>\n",
       "      <td>Violations were cited in the following area(s).</td>\n",
       "      <td>08A</td>\n",
       "      <td>Facility not vermin proof. Harborage or condit...</td>\n",
       "      <td>Not Critical</td>\n",
       "      <td>10.0</td>\n",
       "      <td>A</td>\n",
       "      <td>02/18/2016</td>\n",
       "      <td>04/05/2016</td>\n",
       "      <td>Cycle Inspection / Initial Inspection</td>\n",
       "    </tr>\n",
       "    <tr>\n",
       "      <th>2</th>\n",
       "      <td>30075445</td>\n",
       "      <td>MORRIS PARK BAKE SHOP</td>\n",
       "      <td>BRONX</td>\n",
       "      <td>1007</td>\n",
       "      <td>MORRIS PARK AVE</td>\n",
       "      <td>10462</td>\n",
       "      <td>7188924968</td>\n",
       "      <td>Bakery</td>\n",
       "      <td>02/09/2015</td>\n",
       "      <td>Violations were cited in the following area(s).</td>\n",
       "      <td>06C</td>\n",
       "      <td>Food not protected from potential source of co...</td>\n",
       "      <td>Critical</td>\n",
       "      <td>6.0</td>\n",
       "      <td>A</td>\n",
       "      <td>02/09/2015</td>\n",
       "      <td>04/05/2016</td>\n",
       "      <td>Cycle Inspection / Initial Inspection</td>\n",
       "    </tr>\n",
       "    <tr>\n",
       "      <th>3</th>\n",
       "      <td>30075445</td>\n",
       "      <td>MORRIS PARK BAKE SHOP</td>\n",
       "      <td>BRONX</td>\n",
       "      <td>1007</td>\n",
       "      <td>MORRIS PARK AVE</td>\n",
       "      <td>10462</td>\n",
       "      <td>7188924968</td>\n",
       "      <td>Bakery</td>\n",
       "      <td>03/03/2014</td>\n",
       "      <td>Violations were cited in the following area(s).</td>\n",
       "      <td>10F</td>\n",
       "      <td>Non-food contact surface improperly constructe...</td>\n",
       "      <td>Not Critical</td>\n",
       "      <td>2.0</td>\n",
       "      <td>A</td>\n",
       "      <td>03/03/2014</td>\n",
       "      <td>04/05/2016</td>\n",
       "      <td>Cycle Inspection / Initial Inspection</td>\n",
       "    </tr>\n",
       "    <tr>\n",
       "      <th>4</th>\n",
       "      <td>30075445</td>\n",
       "      <td>MORRIS PARK BAKE SHOP</td>\n",
       "      <td>BRONX</td>\n",
       "      <td>1007</td>\n",
       "      <td>MORRIS PARK AVE</td>\n",
       "      <td>10462</td>\n",
       "      <td>7188924968</td>\n",
       "      <td>Bakery</td>\n",
       "      <td>10/10/2013</td>\n",
       "      <td>No violations were recorded at the time of thi...</td>\n",
       "      <td>NaN</td>\n",
       "      <td>NaN</td>\n",
       "      <td>Not Applicable</td>\n",
       "      <td>NaN</td>\n",
       "      <td>NaN</td>\n",
       "      <td>NaN</td>\n",
       "      <td>04/05/2016</td>\n",
       "      <td>Trans Fat / Second Compliance Inspection</td>\n",
       "    </tr>\n",
       "  </tbody>\n",
       "</table>\n",
       "</div>"
      ],
      "text/plain": [
       "      CAMIS                    DBA   BORO BUILDING           STREET  ZIPCODE  \\\n",
       "0  30075445  MORRIS PARK BAKE SHOP  BRONX     1007  MORRIS PARK AVE    10462   \n",
       "1  30075445  MORRIS PARK BAKE SHOP  BRONX     1007  MORRIS PARK AVE    10462   \n",
       "2  30075445  MORRIS PARK BAKE SHOP  BRONX     1007  MORRIS PARK AVE    10462   \n",
       "3  30075445  MORRIS PARK BAKE SHOP  BRONX     1007  MORRIS PARK AVE    10462   \n",
       "4  30075445  MORRIS PARK BAKE SHOP  BRONX     1007  MORRIS PARK AVE    10462   \n",
       "\n",
       "        PHONE CUISINE DESCRIPTION INSPECTION DATE  \\\n",
       "0  7188924968              Bakery      02/18/2016   \n",
       "1  7188924968              Bakery      02/18/2016   \n",
       "2  7188924968              Bakery      02/09/2015   \n",
       "3  7188924968              Bakery      03/03/2014   \n",
       "4  7188924968              Bakery      10/10/2013   \n",
       "\n",
       "                                              ACTION VIOLATION CODE  \\\n",
       "0    Violations were cited in the following area(s).            04L   \n",
       "1    Violations were cited in the following area(s).            08A   \n",
       "2    Violations were cited in the following area(s).            06C   \n",
       "3    Violations were cited in the following area(s).            10F   \n",
       "4  No violations were recorded at the time of thi...            NaN   \n",
       "\n",
       "                               VIOLATION DESCRIPTION   CRITICAL FLAG  SCORE  \\\n",
       "0  Evidence of mice or live mice present in facil...        Critical   10.0   \n",
       "1  Facility not vermin proof. Harborage or condit...    Not Critical   10.0   \n",
       "2  Food not protected from potential source of co...        Critical    6.0   \n",
       "3  Non-food contact surface improperly constructe...    Not Critical    2.0   \n",
       "4                                                NaN  Not Applicable    NaN   \n",
       "\n",
       "  GRADE  GRADE DATE RECORD DATE                           INSPECTION TYPE  \n",
       "0     A  02/18/2016  04/05/2016     Cycle Inspection / Initial Inspection  \n",
       "1     A  02/18/2016  04/05/2016     Cycle Inspection / Initial Inspection  \n",
       "2     A  02/09/2015  04/05/2016     Cycle Inspection / Initial Inspection  \n",
       "3     A  03/03/2014  04/05/2016     Cycle Inspection / Initial Inspection  \n",
       "4   NaN         NaN  04/05/2016  Trans Fat / Second Compliance Inspection  "
      ]
     },
     "metadata": {},
     "output_type": "display_data"
    }
   ],
   "source": [
    "with pd.option_context('display.max_columns', None):\n",
    "    display(inspec.head())"
   ]
  },
  {
   "cell_type": "code",
   "execution_count": 33,
   "metadata": {
    "collapsed": false
   },
   "outputs": [],
   "source": [
    "# inspec['INSPECTION DATE'].filter(regex='/2015$')"
   ]
  },
  {
   "cell_type": "code",
   "execution_count": 34,
   "metadata": {
    "collapsed": false
   },
   "outputs": [],
   "source": [
    "# select only 2015 data\n",
    "inspec15 = inspec[inspec['INSPECTION DATE'].str.contains('/2015$', regex=True)]"
   ]
  },
  {
   "cell_type": "code",
   "execution_count": 35,
   "metadata": {
    "collapsed": false
   },
   "outputs": [],
   "source": [
    "gp = inspec15.groupby(['CAMIS', 'SCORE'])"
   ]
  },
  {
   "cell_type": "code",
   "execution_count": 36,
   "metadata": {
    "collapsed": false
   },
   "outputs": [],
   "source": [
    "short = two[['CAMIS', 'lat_num', 'lon_num', 'lat_short', 'lon_short']]"
   ]
  },
  {
   "cell_type": "code",
   "execution_count": 37,
   "metadata": {
    "collapsed": false
   },
   "outputs": [
    {
     "data": {
      "text/plain": [
       "(20544,)"
      ]
     },
     "execution_count": 37,
     "metadata": {},
     "output_type": "execute_result"
    }
   ],
   "source": [
    "short['CAMIS'].unique().shape"
   ]
  },
  {
   "cell_type": "code",
   "execution_count": 38,
   "metadata": {
    "collapsed": false
   },
   "outputs": [],
   "source": [
    "whole = pd.merge(inspec15, short, on='CAMIS')"
   ]
  },
  {
   "cell_type": "code",
   "execution_count": 39,
   "metadata": {
    "collapsed": false
   },
   "outputs": [],
   "source": [
    "whole['latlon'] = whole['lat_short'].astype(str) + ', ' + whole['lon_short'].astype(str)"
   ]
  },
  {
   "cell_type": "code",
   "execution_count": 45,
   "metadata": {
    "collapsed": false
   },
   "outputs": [],
   "source": [
    "whole.drop(['lat_short', 'lon_short'], axis=1, inplace=True)"
   ]
  },
  {
   "cell_type": "code",
   "execution_count": null,
   "metadata": {
    "collapsed": true
   },
   "outputs": [],
   "source": [
    "['CAMIS', 'DBA','latlon']"
   ]
  },
  {
   "cell_type": "code",
   "execution_count": 70,
   "metadata": {
    "collapsed": false
   },
   "outputs": [],
   "source": [
    "penul = whole.drop_duplicates(subset=['CAMIS'], keep='first')"
   ]
  },
  {
   "cell_type": "code",
   "execution_count": 71,
   "metadata": {
    "collapsed": false
   },
   "outputs": [],
   "source": [
    "final = penul[['CAMIS', 'DBA','latlon']]"
   ]
  },
  {
   "cell_type": "code",
   "execution_count": 74,
   "metadata": {
    "collapsed": false
   },
   "outputs": [],
   "source": [
    "final.reset_index(drop=True, inplace=True)"
   ]
  },
  {
   "cell_type": "code",
   "execution_count": 76,
   "metadata": {
    "collapsed": false
   },
   "outputs": [],
   "source": [
    "final.to_csv('Merge_target.csv')"
   ]
  },
  {
   "cell_type": "code",
   "execution_count": 78,
   "metadata": {
    "collapsed": false
   },
   "outputs": [
    {
     "data": {
      "text/html": [
       "<div>\n",
       "<table border=\"1\" class=\"dataframe\">\n",
       "  <thead>\n",
       "    <tr style=\"text-align: right;\">\n",
       "      <th></th>\n",
       "      <th>CAMIS</th>\n",
       "      <th>DBA</th>\n",
       "      <th>latlon</th>\n",
       "    </tr>\n",
       "  </thead>\n",
       "  <tbody>\n",
       "    <tr>\n",
       "      <th>0</th>\n",
       "      <td>30075445</td>\n",
       "      <td>MORRIS PARK BAKE SHOP</td>\n",
       "      <td>40.84826, -73.85595</td>\n",
       "    </tr>\n",
       "    <tr>\n",
       "      <th>1</th>\n",
       "      <td>30112340</td>\n",
       "      <td>WENDY'S</td>\n",
       "      <td>40.66287, -73.96218</td>\n",
       "    </tr>\n",
       "    <tr>\n",
       "      <th>2</th>\n",
       "      <td>30191841</td>\n",
       "      <td>DJ REYNOLDS PUB AND RESTAURANT</td>\n",
       "      <td>40.76761, -73.98492</td>\n",
       "    </tr>\n",
       "    <tr>\n",
       "      <th>3</th>\n",
       "      <td>40356018</td>\n",
       "      <td>RIVIERA CATERER</td>\n",
       "      <td>40.57955, -73.98205</td>\n",
       "    </tr>\n",
       "    <tr>\n",
       "      <th>4</th>\n",
       "      <td>40356151</td>\n",
       "      <td>BRUNOS ON THE BOULEVARD</td>\n",
       "      <td>40.76399, -73.88048</td>\n",
       "    </tr>\n",
       "  </tbody>\n",
       "</table>\n",
       "</div>"
      ],
      "text/plain": [
       "      CAMIS                             DBA               latlon\n",
       "0  30075445           MORRIS PARK BAKE SHOP  40.84826, -73.85595\n",
       "1  30112340                         WENDY'S  40.66287, -73.96218\n",
       "2  30191841  DJ REYNOLDS PUB AND RESTAURANT  40.76761, -73.98492\n",
       "3  40356018                 RIVIERA CATERER  40.57955, -73.98205\n",
       "4  40356151         BRUNOS ON THE BOULEVARD  40.76399, -73.88048"
      ]
     },
     "execution_count": 78,
     "metadata": {},
     "output_type": "execute_result"
    }
   ],
   "source": [
    "final.head()"
   ]
  },
  {
   "cell_type": "code",
   "execution_count": null,
   "metadata": {
    "collapsed": true
   },
   "outputs": [],
   "source": []
  }
 ],
 "metadata": {
  "kernelspec": {
   "display_name": "Python 2",
   "language": "python",
   "name": "python2"
  },
  "language_info": {
   "codemirror_mode": {
    "name": "ipython",
    "version": 2
   },
   "file_extension": ".py",
   "mimetype": "text/x-python",
   "name": "python",
   "nbconvert_exporter": "python",
   "pygments_lexer": "ipython2",
   "version": "2.7.11"
  }
 },
 "nbformat": 4,
 "nbformat_minor": 0
}
